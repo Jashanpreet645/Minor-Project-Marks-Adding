{
  "nbformat": 4,
  "nbformat_minor": 0,
  "metadata": {
    "colab": {
      "provenance": [],
      "authorship_tag": "ABX9TyOdGGYOLsnrbiPfxHQvbRNP",
      "include_colab_link": true
    },
    "kernelspec": {
      "name": "python3",
      "display_name": "Python 3"
    },
    "language_info": {
      "name": "python"
    }
  },
  "cells": [
    {
      "cell_type": "markdown",
      "metadata": {
        "id": "view-in-github",
        "colab_type": "text"
      },
      "source": [
        "<a href=\"https://colab.research.google.com/github/Jashanpreet645/Minor-Project-Marks-Adding/blob/main/Marks_Adding.ipynb\" target=\"_parent\"><img src=\"https://colab.research.google.com/assets/colab-badge.svg\" alt=\"Open In Colab\"/></a>"
      ]
    },
    {
      "cell_type": "code",
      "execution_count": 23,
      "metadata": {
        "id": "2mx2QrZ95oKe"
      },
      "outputs": [],
      "source": [
        "import pandas as pd\n",
        "\n",
        "input_data = pd.read_csv(\"/content/Mini Project - Marks Adding.csv\")\n",
        "\n",
        "output_data = input_data.groupby('Roll Num',as_index = False)['Marks'].sum()\n",
        "\n",
        "output_file = \"output_file.csv\"\n",
        "output_data.to_csv(output_file, index=False)\n"
      ]
    }
  ]
}